{
 "cells": [
  {
   "cell_type": "code",
   "execution_count": 2,
   "id": "9ce587f2",
   "metadata": {},
   "outputs": [
    {
     "name": "stdout",
     "output_type": "stream",
     "text": [
      "Move disk 1 from source A to destination B\n",
      "Move disk 2 from source A to destination C\n",
      "Move disk 1 from source B to destination C\n",
      "Move disk 3 from source A to destination B\n",
      "Move disk 1 from source C to destination A\n",
      "Move disk 2 from source C to destination B\n",
      "Move disk 1 from source A to destination B\n"
     ]
    }
   ],
   "source": [
    "#Tower of Hanoi\n",
    "def TOH(num_of_disk,source,destination,auxiliary):\n",
    "    if num_of_disk ==1:\n",
    "        print(\"Move disk 1 from source\", source ,\"to destination\", destination)\n",
    "        return\n",
    "    TOH(num_of_disk-1,source, auxiliary, destination)\n",
    "    print(\"Move disk\", num_of_disk, \"from source\", source, \"to destination\", destination)\n",
    "    TOH(num_of_disk-1, auxiliary, destination, source)\n",
    "n=3\n",
    "TOH(n,'A','B','C')"
   ]
  },
  {
   "cell_type": "code",
   "execution_count": 15,
   "id": "94f0e50d",
   "metadata": {},
   "outputs": [
    {
     "name": "stdout",
     "output_type": "stream",
     "text": [
      "enter the letter:nepal\n",
      "{'n': 1, 'e': 1, 'p': 1, 'a': 1, 'l': 1}\n"
     ]
    }
   ],
   "source": [
    "# find the letter in the given string\n",
    "str=input(\"enter the letter:\")\n",
    "#str=\"zebra\"\n",
    "dis={}\n",
    "for i in str:\n",
    "    if i in dis:\n",
    "        dis[i] +=1\n",
    "    else:\n",
    "        dis[i]=1\n",
    "print(dis)\n",
    "\n"
   ]
  },
  {
   "cell_type": "code",
   "execution_count": 27,
   "id": "29bce110",
   "metadata": {},
   "outputs": [
    {
     "name": "stdout",
     "output_type": "stream",
     "text": [
      "Enter length of side a: 12\n",
      "Enter length of side b: 1\n",
      "Enter length of side c: 1\n",
      "Triangle can form.\n"
     ]
    },
    {
     "data": {
      "text/plain": [
       "<function __main__.triangle_check(a, b, c)>"
      ]
     },
     "execution_count": 27,
     "metadata": {},
     "output_type": "execute_result"
    }
   ],
   "source": [
    "#check tringle can form or not \n",
    "#1\n",
    "\n",
    "def is_triangle(a,b,c):\n",
    "    if a>b+c and b>c+a and c>a+b:\n",
    "        return \"no\"\n",
    "    else:\n",
    "        return \"yes\"\n",
    "#is_triangle(12,1,1)\n",
    "\n",
    "#2\n",
    "a = int(input('Enter length of side a: '))\n",
    "b = int(input('Enter length of side b: '))\n",
    "c = int(input('Enter length of side c: '))\n",
    "\n",
    "def triangle_check(a,b,c):\n",
    "    if is_triangle(a,b,c):\n",
    "         print('Triangle can form.')\n",
    "    else:\n",
    "        print('Triangle cannot form.') \n",
    "    return triangle_check\n",
    "triangle_check(a,b,c)\n"
   ]
  }
 ],
 "metadata": {
  "kernelspec": {
   "display_name": "Python 3 (ipykernel)",
   "language": "python",
   "name": "python3"
  },
  "language_info": {
   "codemirror_mode": {
    "name": "ipython",
    "version": 3
   },
   "file_extension": ".py",
   "mimetype": "text/x-python",
   "name": "python",
   "nbconvert_exporter": "python",
   "pygments_lexer": "ipython3",
   "version": "3.9.12"
  }
 },
 "nbformat": 4,
 "nbformat_minor": 5
}
