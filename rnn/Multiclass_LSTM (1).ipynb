{
 "cells": [
  {
   "cell_type": "markdown",
   "metadata": {
    "colab_type": "text",
    "id": "pNqVQ7MU7jD8"
   },
   "source": [
    "**Import the Libraries**"
   ]
  },
  {
   "cell_type": "code",
   "execution_count": 1,
   "metadata": {
    "colab": {
     "base_uri": "https://localhost:8080/",
     "height": 35
    },
    "colab_type": "code",
    "id": "RvkRtHt64AWv",
    "outputId": "74bec8c7-97f8-41b6-e1ec-7240d18dd92c"
   },
   "outputs": [
    {
     "name": "stderr",
     "output_type": "stream",
     "text": [
      "2022-11-17 18:23:10.011441: I tensorflow/core/platform/cpu_feature_guard.cc:193] This TensorFlow binary is optimized with oneAPI Deep Neural Network Library (oneDNN) to use the following CPU instructions in performance-critical operations:  AVX2 FMA\n",
      "To enable them in other operations, rebuild TensorFlow with the appropriate compiler flags.\n",
      "2022-11-17 18:23:17.855474: W tensorflow/stream_executor/platform/default/dso_loader.cc:64] Could not load dynamic library 'libcudart.so.11.0'; dlerror: libcudart.so.11.0: cannot open shared object file: No such file or directory\n",
      "2022-11-17 18:23:17.855539: I tensorflow/stream_executor/cuda/cudart_stub.cc:29] Ignore above cudart dlerror if you do not have a GPU set up on your machine.\n",
      "2022-11-17 18:23:18.345622: E tensorflow/stream_executor/cuda/cuda_blas.cc:2981] Unable to register cuBLAS factory: Attempting to register factory for plugin cuBLAS when one has already been registered\n",
      "2022-11-17 18:23:31.722078: W tensorflow/stream_executor/platform/default/dso_loader.cc:64] Could not load dynamic library 'libnvinfer.so.7'; dlerror: libnvinfer.so.7: cannot open shared object file: No such file or directory\n",
      "2022-11-17 18:23:31.741157: W tensorflow/stream_executor/platform/default/dso_loader.cc:64] Could not load dynamic library 'libnvinfer_plugin.so.7'; dlerror: libnvinfer_plugin.so.7: cannot open shared object file: No such file or directory\n",
      "2022-11-17 18:23:31.741236: W tensorflow/compiler/tf2tensorrt/utils/py_utils.cc:38] TF-TRT Warning: Cannot dlopen some TensorRT libraries. If you would like to use Nvidia GPU with TensorRT, please make sure the missing libraries mentioned above are installed properly.\n"
     ]
    },
    {
     "name": "stdout",
     "output_type": "stream",
     "text": [
      "2.10.0\n"
     ]
    }
   ],
   "source": [
    "import csv\n",
    "import pandas as pd\n",
    "import tensorflow as tf\n",
    "import numpy as np\n",
    "from tensorflow.keras.preprocessing.text import Tokenizer\n",
    "from tensorflow.keras.preprocessing.sequence import pad_sequences\n",
    "from tensorflow.keras.models import Sequential\n",
    "from tensorflow.keras.layers import Dense, Flatten, LSTM, Dropout, Activation, Embedding, Bidirectional\n",
    "print(tf.__version__)"
   ]
  },
  {
   "cell_type": "code",
   "execution_count": 2,
   "metadata": {},
   "outputs": [
    {
     "name": "stdout",
     "output_type": "stream",
     "text": [
      "Requirement already satisfied: nltk in /home/mukesh/anaconda3/lib/python3.9/site-packages (3.7)\n",
      "Requirement already satisfied: tqdm in /home/mukesh/anaconda3/lib/python3.9/site-packages (from nltk) (4.64.0)\n",
      "Requirement already satisfied: click in /home/mukesh/anaconda3/lib/python3.9/site-packages (from nltk) (8.0.4)\n",
      "Requirement already satisfied: joblib in /home/mukesh/anaconda3/lib/python3.9/site-packages (from nltk) (1.1.0)\n",
      "Requirement already satisfied: regex>=2021.8.3 in /home/mukesh/anaconda3/lib/python3.9/site-packages (from nltk) (2022.3.15)\n"
     ]
    }
   ],
   "source": [
    "!pip install nltk"
   ]
  },
  {
   "cell_type": "markdown",
   "metadata": {
    "colab_type": "text",
    "id": "4QVrj-F-7msu"
   },
   "source": [
    "**Get the Data**"
   ]
  },
  {
   "cell_type": "code",
   "execution_count": 3,
   "metadata": {
    "colab": {
     "base_uri": "https://localhost:8080/",
     "height": 212
    },
    "colab_type": "code",
    "id": "ZgUBFrAy4Ig8",
    "outputId": "c703823c-23ba-416b-faaf-d116db82d2dc"
   },
   "outputs": [],
   "source": [
    "df = pd.read_csv(\"bbc-text.csv\")"
   ]
  },
  {
   "cell_type": "code",
   "execution_count": 4,
   "metadata": {},
   "outputs": [
    {
     "data": {
      "text/html": [
       "<div>\n",
       "<style scoped>\n",
       "    .dataframe tbody tr th:only-of-type {\n",
       "        vertical-align: middle;\n",
       "    }\n",
       "\n",
       "    .dataframe tbody tr th {\n",
       "        vertical-align: top;\n",
       "    }\n",
       "\n",
       "    .dataframe thead th {\n",
       "        text-align: right;\n",
       "    }\n",
       "</style>\n",
       "<table border=\"1\" class=\"dataframe\">\n",
       "  <thead>\n",
       "    <tr style=\"text-align: right;\">\n",
       "      <th></th>\n",
       "      <th>category</th>\n",
       "      <th>text</th>\n",
       "    </tr>\n",
       "  </thead>\n",
       "  <tbody>\n",
       "    <tr>\n",
       "      <th>0</th>\n",
       "      <td>tech</td>\n",
       "      <td>tv future in the hands of viewers with home th...</td>\n",
       "    </tr>\n",
       "    <tr>\n",
       "      <th>1</th>\n",
       "      <td>business</td>\n",
       "      <td>worldcom boss  left books alone  former worldc...</td>\n",
       "    </tr>\n",
       "    <tr>\n",
       "      <th>2</th>\n",
       "      <td>sport</td>\n",
       "      <td>tigers wary of farrell  gamble  leicester say ...</td>\n",
       "    </tr>\n",
       "    <tr>\n",
       "      <th>3</th>\n",
       "      <td>sport</td>\n",
       "      <td>yeading face newcastle in fa cup premiership s...</td>\n",
       "    </tr>\n",
       "    <tr>\n",
       "      <th>4</th>\n",
       "      <td>entertainment</td>\n",
       "      <td>ocean s twelve raids box office ocean s twelve...</td>\n",
       "    </tr>\n",
       "  </tbody>\n",
       "</table>\n",
       "</div>"
      ],
      "text/plain": [
       "        category                                               text\n",
       "0           tech  tv future in the hands of viewers with home th...\n",
       "1       business  worldcom boss  left books alone  former worldc...\n",
       "2          sport  tigers wary of farrell  gamble  leicester say ...\n",
       "3          sport  yeading face newcastle in fa cup premiership s...\n",
       "4  entertainment  ocean s twelve raids box office ocean s twelve..."
      ]
     },
     "execution_count": 4,
     "metadata": {},
     "output_type": "execute_result"
    }
   ],
   "source": [
    "df.head()"
   ]
  },
  {
   "cell_type": "code",
   "execution_count": 5,
   "metadata": {},
   "outputs": [
    {
     "data": {
      "text/plain": [
       "'singapore growth at 8.1% in 2004 singapore s economy grew by 8.1% in 2004  its best performance since 2000  figures from the trade ministry show.  the advance  the second-fastest in asia after china  was led by growth of 13.1% in the key manufacturing sector. however  a slower-than-expected fourth quarter points to more modest growth for the trade-driven economy in 2005 as global technology demand falls back. slowdowns in the us and china could hit electronics exports  while the tsunami disaster may effect the service sector.  economic growth is set to halve in singapore this year to between 3% and 5%. in the fourth quarter  the city state s gross domestic product (gdp) rose at an annual rate of 2.4%. that was up from the third quarter  when it fell 3.0%  but was well below analyst forecasts.  i am surprised at the weak fourth quarter number. the main drag came from electronics   said lian chia liang  economist at jp morgan chase. singapore s economy had contracted over the summer  weighed down by soaring oil prices. the economy s poor performance in the july to september period followed four consecutive quarters of double-digit growth as singapore bounced back strongly from the effects of the deadly sars virus in 2003.'"
      ]
     },
     "execution_count": 5,
     "metadata": {},
     "output_type": "execute_result"
    }
   ],
   "source": [
    "df['text'][71]"
   ]
  },
  {
   "cell_type": "markdown",
   "metadata": {
    "colab_type": "text",
    "id": "oMQWdiqa7ram"
   },
   "source": [
    "**Import NTLK Library**"
   ]
  },
  {
   "cell_type": "code",
   "execution_count": 6,
   "metadata": {
    "colab": {
     "base_uri": "https://localhost:8080/",
     "height": 52
    },
    "colab_type": "code",
    "id": "APvYgINr4jSC",
    "outputId": "7f4b1b69-0082-4767-f98a-7e95ec4ca4db"
   },
   "outputs": [
    {
     "name": "stderr",
     "output_type": "stream",
     "text": [
      "[nltk_data] Downloading package stopwords to /home/mukesh/nltk_data...\n",
      "[nltk_data]   Unzipping corpora/stopwords.zip.\n"
     ]
    }
   ],
   "source": [
    "import nltk\n",
    "nltk.download('stopwords')\n",
    "from nltk.corpus import stopwords\n",
    "STOPWORDS = set(stopwords.words('english'))"
   ]
  },
  {
   "cell_type": "markdown",
   "metadata": {
    "colab_type": "text",
    "id": "aRTmfoUx7wsW"
   },
   "source": [
    "**Set the Hyper-Parameters**"
   ]
  },
  {
   "cell_type": "code",
   "execution_count": 7,
   "metadata": {
    "colab": {},
    "colab_type": "code",
    "id": "CPUGweix4l7V"
   },
   "outputs": [],
   "source": [
    "vocab_size = 5000 \n",
    "embedding_dim = 64\n",
    "max_length = 200\n",
    "trunc_type = 'post'\n",
    "padding_type = 'post'\n",
    "oov_tok = '<OOV>' #OOV = Out of Vocabulary\n",
    "training_portion = .8"
   ]
  },
  {
   "cell_type": "markdown",
   "metadata": {
    "colab_type": "text",
    "id": "w1dObaAI8JxW"
   },
   "source": [
    "**Populate List and Remove the Stopwords**"
   ]
  },
  {
   "cell_type": "code",
   "execution_count": 8,
   "metadata": {
    "colab": {
     "base_uri": "https://localhost:8080/",
     "height": 52
    },
    "colab_type": "code",
    "id": "PLgOIeRu4qhW",
    "outputId": "15fd1497-e373-4371-e0e9-a938e52a5c41"
   },
   "outputs": [
    {
     "name": "stdout",
     "output_type": "stream",
     "text": [
      "2225\n",
      "2225\n"
     ]
    }
   ],
   "source": [
    "articles = []\n",
    "labels = []\n",
    "\n",
    "with open(\"bbc-text.csv\", 'r') as csvfile:\n",
    "    reader = csv.reader(csvfile, delimiter=',')\n",
    "    next(reader)\n",
    "    for row in reader:\n",
    "        labels.append(row[0])\n",
    "        article = row[1]\n",
    "        for word in STOPWORDS:\n",
    "            token = ' ' + word + ' '\n",
    "            article = article.replace(token, ' ')\n",
    "            article = article.replace(' ', ' ')\n",
    "        articles.append(article)\n",
    "print(len(labels))\n",
    "print(len(articles))"
   ]
  },
  {
   "cell_type": "code",
   "execution_count": 9,
   "metadata": {
    "colab": {
     "base_uri": "https://localhost:8080/",
     "height": 35
    },
    "colab_type": "code",
    "id": "UO21rpb-4vVS",
    "outputId": "bc10666e-d7a1-4dd1-e411-d138d14f8c8f"
   },
   "outputs": [
    {
     "data": {
      "text/plain": [
       "['tech', 'business']"
      ]
     },
     "execution_count": 9,
     "metadata": {},
     "output_type": "execute_result"
    }
   ],
   "source": [
    "labels[:2]"
   ]
  },
  {
   "cell_type": "code",
   "execution_count": 10,
   "metadata": {
    "colab": {
     "base_uri": "https://localhost:8080/",
     "height": 72
    },
    "colab_type": "code",
    "id": "zRX_sx6U4x66",
    "outputId": "49404700-32ec-4ee8-a2f6-31c983a8ed65"
   },
   "outputs": [
    {
     "data": {
      "text/plain": [
       "['tv future hands viewers home theatre systems  plasma high-definition tvs  digital video recorders moving living room  way people watch tv radically different five years  time.  according expert panel gathered annual consumer electronics show las vegas discuss new technologies impact one favourite pastimes. us leading trend  programmes content delivered viewers via home networks  cable  satellite  telecoms companies  broadband service providers front rooms portable devices.  one talked-about technologies ces digital personal video recorders (dvr pvr). set-top boxes  like us tivo uk sky+ system  allow people record  store  play  pause forward wind tv programmes want.  essentially  technology allows much personalised tv. also built-in high-definition tv sets  big business japan us  slower take europe lack high-definition programming. people forward wind adverts  also forget abiding network channel schedules  putting together a-la-carte entertainment. us networks cable satellite companies worried means terms advertising revenues well  brand identity  viewer loyalty channels. although us leads technology moment  also concern raised europe  particularly growing uptake services like sky+.  happens today  see nine months years  time uk   adam hume  bbc broadcast futurologist told bbc news website. likes bbc  issues lost advertising revenue yet. pressing issue moment commercial uk broadcasters  brand loyalty important everyone.  talking content brands rather network brands   said tim hanlon  brand communications firm starcom mediavest.  reality broadband connections  anybody producer content.  added:  challenge is hard promote programme much choice.   means  said stacey jolna  senior vice president tv guide tv group  way people find content want watch simplified tv viewers. means networks  us terms  channels could take leaf google book search engine future  instead scheduler help people find want watch. kind channel model might work younger ipod generation used taking control gadgets play them. might suit everyone  panel recognised. older generations comfortable familiar schedules channel brands know getting. perhaps want much choice put hands  mr hanlon suggested.  end  kids diapers pushing buttons already - everything possible available   said mr hanlon.  ultimately  consumer tell market want.   50 000 new gadgets technologies showcased ces  many enhancing tv-watching experience. high-definition tv sets everywhere many new models lcd (liquid crystal display) tvs launched dvr capability built  instead external boxes. one example launched show humax 26-inch lcd tv 80-hour tivo dvr dvd recorder. one us biggest satellite tv companies  directtv  even launched branded dvr show 100-hours recording capability  instant replay  search function. set pause rewind tv 90 hours. microsoft chief bill gates announced pre-show keynote speech partnership tivo  called tivotogo  means people play recorded programmes windows pcs mobile devices. reflect increasing trend freeing multimedia people watch want  want.',\n",
       " 'worldcom boss  left books alone  former worldcom boss bernie ebbers  accused overseeing $11bn (£5.8bn) fraud  never made accounting decisions  witness told jurors.  david myers made comments questioning defence lawyers arguing mr ebbers responsible worldcom problems. phone company collapsed 2002 prosecutors claim losses hidden protect firm shares. mr myers already pleaded guilty fraud assisting prosecutors.  monday  defence lawyer reid weingarten tried distance client allegations. cross examination  asked mr myers ever knew mr ebbers  make accounting decision  .  aware   mr myers replied.  ever know mr ebbers make accounting entry worldcom books   mr weingarten pressed.    replied witness. mr myers admitted ordered false accounting entries request former worldcom chief financial officer scott sullivan. defence lawyers trying paint mr sullivan  admitted fraud testify later trial  mastermind behind worldcom accounting house cards.  mr ebbers  team  meanwhile  looking portray affable boss  admission pe graduate economist. whatever abilities  mr ebbers transformed worldcom relative unknown $160bn telecoms giant investor darling late 1990s. worldcom problems mounted  however  competition increased telecoms boom petered out. firm finally collapsed  shareholders lost $180bn 20 000 workers lost jobs. mr ebbers  trial expected last two months found guilty former ceo faces substantial jail sentence. firmly declared innocence.']"
      ]
     },
     "execution_count": 10,
     "metadata": {},
     "output_type": "execute_result"
    }
   ],
   "source": [
    "articles[:2]"
   ]
  },
  {
   "cell_type": "markdown",
   "metadata": {
    "colab_type": "text",
    "id": "Zm77Egm58gOW"
   },
   "source": [
    "**Create Training and Validation Set**"
   ]
  },
  {
   "cell_type": "code",
   "execution_count": 11,
   "metadata": {
    "colab": {
     "base_uri": "https://localhost:8080/",
     "height": 106
    },
    "colab_type": "code",
    "id": "Lm9tBphR4zjQ",
    "outputId": "bcbbbd42-fcda-4661-859a-e230cb1695f1"
   },
   "outputs": [
    {
     "name": "stdout",
     "output_type": "stream",
     "text": [
      "train_size 1780\n",
      "train_articles 1780\n",
      "train_labels 1780\n",
      "validation_articles 445\n",
      "validation_labels 445\n"
     ]
    }
   ],
   "source": [
    "train_size = int(len(articles) * training_portion)\n",
    "\n",
    "train_articles = articles[0: train_size]\n",
    "train_labels = labels[0: train_size]\n",
    "\n",
    "validation_articles = articles[train_size:]\n",
    "validation_labels = labels[train_size:]\n",
    "\n",
    "print(\"train_size\",  train_size)\n",
    "print(f\"train_articles {len(train_articles)}\")\n",
    "print(\"train_labels\", len(train_labels))\n",
    "print(\"validation_articles\", len(validation_articles))\n",
    "print(\"validation_labels\", len(validation_labels))"
   ]
  },
  {
   "cell_type": "markdown",
   "metadata": {
    "colab_type": "text",
    "id": "uisJPHDu8mKf"
   },
   "source": [
    "**Tokenization on \"train_articles\"**"
   ]
  },
  {
   "cell_type": "code",
   "execution_count": 12,
   "metadata": {
    "colab": {},
    "colab_type": "code",
    "id": "5R1kzSWq43-f"
   },
   "outputs": [],
   "source": [
    "tokenizer = Tokenizer(num_words = vocab_size, oov_token=oov_tok)\n",
    "tokenizer.fit_on_texts(train_articles)\n",
    "word_index = tokenizer.word_index"
   ]
  },
  {
   "cell_type": "markdown",
   "metadata": {
    "colab_type": "text",
    "id": "_lrq0a-X8uZM"
   },
   "source": [
    "**Convert to Sequences on \"train_articles\"**"
   ]
  },
  {
   "cell_type": "code",
   "execution_count": 13,
   "metadata": {
    "colab": {},
    "colab_type": "code",
    "id": "dvUh2Iyt4_je"
   },
   "outputs": [],
   "source": [
    "train_sequences = tokenizer.texts_to_sequences(train_articles)"
   ]
  },
  {
   "cell_type": "code",
   "execution_count": 14,
   "metadata": {
    "colab": {
     "base_uri": "https://localhost:8080/",
     "height": 72
    },
    "colab_type": "code",
    "id": "C6wBHZlt5Bmo",
    "outputId": "cb15d8df-d5ef-4f91-d5d9-01c00bf86972"
   },
   "outputs": [
    {
     "name": "stdout",
     "output_type": "stream",
     "text": [
      "[2431, 1, 225, 4994, 22, 641, 587, 225, 4994, 1, 1, 1662, 1, 1, 2431, 22, 565, 1, 1, 140, 278, 1, 140, 278, 796, 822, 662, 2307, 1, 1144, 1693, 1, 1720, 4995, 1, 1, 1, 1, 1, 4737, 1, 1, 122, 4513, 1, 2, 2874, 1504, 352, 4738, 1, 52, 341, 1, 352, 2171, 3962, 41, 22, 3794, 1, 1, 1, 1, 543, 1, 1, 1, 835, 631, 2366, 347, 4739, 1, 365, 22, 1, 787, 2367, 1, 4301, 138, 10, 1, 3665, 682, 3532, 1, 22, 1, 414, 822, 662, 1, 90, 13, 633, 1, 225, 4994, 1, 600, 1, 1693, 1021, 1, 4996, 807, 1863, 117, 1, 1, 1, 2974, 22, 1, 99, 278, 1, 1606, 4997, 543, 492, 1, 1444, 4740, 778, 1320, 1, 1860, 10, 33, 641, 319, 1, 62, 478, 565, 301, 1505, 22, 479, 1, 1, 1665, 1, 797, 1, 3066, 1, 1364, 6, 1, 2431, 565, 22, 2971, 4734, 1, 1, 1, 1, 1, 850, 39, 1824, 675, 297, 26, 979, 1, 882, 22, 361, 22, 13, 301, 1505, 1342, 374, 20, 63, 883, 1096, 4302, 247]\n"
     ]
    },
    {
     "data": {
      "text/plain": [
       "(None, 186)"
      ]
     },
     "execution_count": 14,
     "metadata": {},
     "output_type": "execute_result"
    }
   ],
   "source": [
    "print(train_sequences[10]), len(train_sequences[10])"
   ]
  },
  {
   "cell_type": "code",
   "execution_count": 15,
   "metadata": {
    "colab": {
     "base_uri": "https://localhost:8080/",
     "height": 72
    },
    "colab_type": "code",
    "id": "8a19bNfA5C-v",
    "outputId": "09808984-cd7e-4347-be09-8fa7c541aa83"
   },
   "outputs": [
    {
     "name": "stdout",
     "output_type": "stream",
     "text": [
      "[91, 160, 1141, 1106, 49, 979, 755, 1, 89, 1304, 4288, 129, 175, 3654, 1213, 1194, 1576, 42, 7, 893, 91, 1, 334, 85, 20, 14, 130, 3262, 1214, 2421, 570, 451, 1375, 58, 3378, 3522, 1660, 8, 921, 730, 10, 844, 1, 9, 599, 1577, 1107, 395, 1940, 1106, 731, 49, 538, 1397, 2012, 1622, 134, 249, 113, 2355, 795, 4979, 980, 584, 10, 3956, 3957, 921, 2562, 129, 344, 175, 3654, 1, 1, 39, 62, 2867, 28, 9, 4722, 18, 1305, 136, 416, 7, 143, 1422, 71, 4500, 436, 4980, 91, 1107, 77, 1, 82, 2013, 53, 1, 91, 6, 1008, 591, 89, 1304, 91, 1964, 131, 137, 420, 9, 2868, 38, 152, 1233, 89, 1304, 4723, 7, 436, 4980, 3153, 6, 2492, 1, 431, 1126, 1, 1423, 571, 1234, 1902, 1, 766, 9, 538, 1397, 2012, 134, 2069, 400, 845, 1965, 1599, 34, 1716, 2869, 1, 1, 2422, 244, 9, 2624, 82, 732, 6, 1172, 1195, 152, 720, 592, 1, 124, 28, 1305, 1689, 432, 83, 933, 115, 20, 14, 18, 3154, 1, 37, 1483, 1, 23, 37, 87, 335, 2356, 37, 467, 255, 1965, 1358, 328, 1, 299, 732, 1173, 18, 2870, 1716, 1, 294, 756, 1074, 395, 2014, 387, 431, 2014, 2, 1359, 1, 1716, 2165, 67, 1, 1, 1717, 249, 1661, 3059, 1174, 395, 41, 878, 1623, 246, 2793, 345, 53, 548, 400, 2, 1, 1, 655, 1360, 202, 91, 3958, 91, 90, 42, 7, 320, 395, 77, 893, 1, 91, 1106, 400, 538, 9, 845, 2422, 11, 38, 1, 995, 514, 483, 2070, 160, 572, 1, 128, 7, 320, 77, 893, 1215, 1126, 1463, 346, 54, 2213, 1216, 741, 92, 256, 274, 1019, 71, 623, 346, 2423, 756, 1214, 2357, 1718, 1, 3783, 3523, 1, 1126, 2014, 177, 371, 1398, 77, 53, 548, 105, 1141, 3, 1, 1047, 93, 2962, 1, 2625, 1, 102, 902, 440, 452, 2, 3, 1, 2871, 451, 1424, 43, 77, 429, 31, 8, 1019, 921, 1, 2562, 30, 1, 91, 1690, 879, 89, 1304, 91, 1964, 1, 30, 8, 1624, 1, 1, 4289, 1578, 4288, 656, 1, 3784, 1008, 572, 4290, 2867, 10, 880, 656, 58, 1, 1261, 1, 1, 91, 1553, 934, 4722, 1, 578, 4105, 10, 9, 235, 2012, 91, 134, 1, 95, 656, 3263, 1, 58, 520, 673, 2626, 3784, 4981, 3379, 483, 4724, 39, 4500, 1, 91, 1747, 673, 269, 116, 239, 2627, 354, 643, 58, 4106, 757, 3655, 4722, 146, 1, 400, 7, 71, 1748, 1107, 767, 910, 118, 584, 3380, 1316, 1577, 1, 1600, 7, 893, 77, 77]\n"
     ]
    },
    {
     "data": {
      "text/plain": [
       "(None, 426)"
      ]
     },
     "execution_count": 15,
     "metadata": {},
     "output_type": "execute_result"
    }
   ],
   "source": [
    "print(train_sequences[0]), len(train_sequences[0])"
   ]
  },
  {
   "cell_type": "markdown",
   "metadata": {
    "colab_type": "text",
    "id": "Scuv0luz9DI6"
   },
   "source": [
    "**Padding and Truncating on \"train_sequences\"**"
   ]
  },
  {
   "cell_type": "code",
   "execution_count": 16,
   "metadata": {
    "colab": {},
    "colab_type": "code",
    "id": "39gWKCmd5EZH"
   },
   "outputs": [],
   "source": [
    "train_padded = pad_sequences(train_sequences, maxlen=max_length, padding=padding_type, truncating=trunc_type)"
   ]
  },
  {
   "cell_type": "code",
   "execution_count": 17,
   "metadata": {
    "colab": {
     "base_uri": "https://localhost:8080/",
     "height": 355
    },
    "colab_type": "code",
    "id": "NqDAqI7f5GIf",
    "outputId": "cf16ffd2-5ad4-40b9-f37f-efaf0b14dc6a"
   },
   "outputs": [
    {
     "data": {
      "text/plain": [
       "array([2431,    1,  225, 4994,   22,  641,  587,  225, 4994,    1,    1,\n",
       "       1662,    1,    1, 2431,   22,  565,    1,    1,  140,  278,    1,\n",
       "        140,  278,  796,  822,  662, 2307,    1, 1144, 1693,    1, 1720,\n",
       "       4995,    1,    1,    1,    1,    1, 4737,    1,    1,  122, 4513,\n",
       "          1,    2, 2874, 1504,  352, 4738,    1,   52,  341,    1,  352,\n",
       "       2171, 3962,   41,   22, 3794,    1,    1,    1,    1,  543,    1,\n",
       "          1,    1,  835,  631, 2366,  347, 4739,    1,  365,   22,    1,\n",
       "        787, 2367,    1, 4301,  138,   10,    1, 3665,  682, 3532,    1,\n",
       "         22,    1,  414,  822,  662,    1,   90,   13,  633,    1,  225,\n",
       "       4994,    1,  600,    1, 1693, 1021,    1, 4996,  807, 1863,  117,\n",
       "          1,    1,    1, 2974,   22,    1,   99,  278,    1, 1606, 4997,\n",
       "        543,  492,    1, 1444, 4740,  778, 1320,    1, 1860,   10,   33,\n",
       "        641,  319,    1,   62,  478,  565,  301, 1505,   22,  479,    1,\n",
       "          1, 1665,    1,  797,    1, 3066,    1, 1364,    6,    1, 2431,\n",
       "        565,   22, 2971, 4734,    1,    1,    1,    1,    1,  850,   39,\n",
       "       1824,  675,  297,   26,  979,    1,  882,   22,  361,   22,   13,\n",
       "        301, 1505, 1342,  374,   20,   63,  883, 1096, 4302,  247,    0,\n",
       "          0,    0,    0,    0,    0,    0,    0,    0,    0,    0,    0,\n",
       "          0,    0], dtype=int32)"
      ]
     },
     "execution_count": 17,
     "metadata": {},
     "output_type": "execute_result"
    }
   ],
   "source": [
    "train_padded[10]"
   ]
  },
  {
   "cell_type": "code",
   "execution_count": 18,
   "metadata": {
    "colab": {
     "base_uri": "https://localhost:8080/",
     "height": 124
    },
    "colab_type": "code",
    "id": "Chjy00K15HmI",
    "outputId": "020027bb-d90d-4aa4-8463-5984419bfcc5"
   },
   "outputs": [
    {
     "name": "stdout",
     "output_type": "stream",
     "text": [
      "len train_sequnces[0]:  426\n",
      "len train_padded[0]:  200\n",
      "len train_sequences[1]:  192\n",
      "len train_padded[1]:  200\n",
      "len train_sequences[10]:  186\n",
      "len train_padded[10]:  200\n"
     ]
    }
   ],
   "source": [
    "print(\"len train_sequnces[0]: \", len(train_sequences[0]))\n",
    "print(\"len train_padded[0]: \", len(train_padded[0]))\n",
    "\n",
    "print(\"len train_sequences[1]: \", len(train_sequences[1]))\n",
    "print(\"len train_padded[1]: \", len(train_padded[1]))\n",
    "\n",
    "print(\"len train_sequences[10]: \", len(train_sequences[10]))\n",
    "print(\"len train_padded[10]: \", len(train_padded[10]))"
   ]
  },
  {
   "cell_type": "markdown",
   "metadata": {
    "colab_type": "text",
    "id": "8ek_UbKQ9Ll3"
   },
   "source": [
    "**Convert to Sequence, Padding & Truncating on \"validation_articles\"**"
   ]
  },
  {
   "cell_type": "code",
   "execution_count": 19,
   "metadata": {
    "colab": {
     "base_uri": "https://localhost:8080/",
     "height": 52
    },
    "colab_type": "code",
    "id": "KzUg6aCF5Q9P",
    "outputId": "1915dc05-0645-4a12-86b2-1e6c3b5cf0b9"
   },
   "outputs": [
    {
     "name": "stdout",
     "output_type": "stream",
     "text": [
      "445\n",
      "(445, 200)\n"
     ]
    }
   ],
   "source": [
    "validation_sequences = tokenizer.texts_to_sequences(validation_articles)\n",
    "validation_padded = pad_sequences(validation_sequences, maxlen=max_length, padding=padding_type, truncating=trunc_type)\n",
    "\n",
    "print(len(validation_sequences))\n",
    "print(validation_padded.shape)"
   ]
  },
  {
   "cell_type": "markdown",
   "metadata": {
    "colab_type": "text",
    "id": "b8Ieaw-R9kUT"
   },
   "source": [
    "**Labels**"
   ]
  },
  {
   "cell_type": "code",
   "execution_count": 20,
   "metadata": {
    "colab": {
     "base_uri": "https://localhost:8080/",
     "height": 35
    },
    "colab_type": "code",
    "id": "G98piAM55Ub4",
    "outputId": "b28a3869-f25f-4893-d236-f6c58bdba728"
   },
   "outputs": [
    {
     "name": "stdout",
     "output_type": "stream",
     "text": [
      "{'business', 'sport', 'tech', 'entertainment', 'politics'}\n"
     ]
    }
   ],
   "source": [
    "print(set(labels))"
   ]
  },
  {
   "cell_type": "markdown",
   "metadata": {
    "colab_type": "text",
    "id": "1oKbyEJn9pPD"
   },
   "source": [
    "**Tokenize and Convert to Sequence on \"train_labels\" and \"validation_labels\"**"
   ]
  },
  {
   "cell_type": "code",
   "execution_count": 21,
   "metadata": {
    "colab": {},
    "colab_type": "code",
    "id": "MbMgdUmr5WTZ"
   },
   "outputs": [],
   "source": [
    "label_tokenizer = Tokenizer()\n",
    "label_tokenizer.fit_on_texts(labels)\n",
    "\n",
    "training_label_seq = np.array(label_tokenizer.texts_to_sequences(train_labels))\n",
    "validation_label_seq = np.array(label_tokenizer.texts_to_sequences(validation_labels))"
   ]
  },
  {
   "cell_type": "code",
   "execution_count": 22,
   "metadata": {
    "colab": {
     "base_uri": "https://localhost:8080/",
     "height": 35
    },
    "colab_type": "code",
    "id": "OBaWnkeH5X4Y",
    "outputId": "c9758225-2c8a-4163-9403-01be565f0176"
   },
   "outputs": [
    {
     "data": {
      "text/plain": [
       "{'sport': 1, 'business': 2, 'politics': 3, 'tech': 4, 'entertainment': 5}"
      ]
     },
     "execution_count": 22,
     "metadata": {},
     "output_type": "execute_result"
    }
   ],
   "source": [
    "#labels = ['sport', 'bussiness', 'politics', 'tech', 'entertainment']\n",
    "label_tokenizer.word_index"
   ]
  },
  {
   "cell_type": "code",
   "execution_count": 23,
   "metadata": {
    "colab": {
     "base_uri": "https://localhost:8080/",
     "height": 177
    },
    "colab_type": "code",
    "id": "33ZGkuAL5ZZg",
    "outputId": "bee04236-4ff5-4b64-f31f-2379f9b197bb"
   },
   "outputs": [
    {
     "name": "stdout",
     "output_type": "stream",
     "text": [
      "[4]\n",
      "[2]\n",
      "[1]\n",
      "(1780, 1)\n",
      "-------------\n",
      "[5]\n",
      "[4]\n",
      "[3]\n",
      "(445, 1)\n"
     ]
    }
   ],
   "source": [
    "print(training_label_seq[0])\n",
    "print(training_label_seq[1])\n",
    "print(training_label_seq[2])\n",
    "print(training_label_seq.shape)\n",
    "print('-------------')\n",
    "print(validation_label_seq[0])\n",
    "print(validation_label_seq[1])\n",
    "print(validation_label_seq[2])\n",
    "print(validation_label_seq.shape)"
   ]
  },
  {
   "cell_type": "markdown",
   "metadata": {
    "colab_type": "text",
    "id": "HNLSHt2491ea"
   },
   "source": [
    "**Create Model**"
   ]
  },
  {
   "cell_type": "code",
   "execution_count": 24,
   "metadata": {
    "colab": {
     "base_uri": "https://localhost:8080/",
     "height": 301
    },
    "colab_type": "code",
    "id": "yiSH1ZV55eUi",
    "outputId": "d5c1cdd7-766a-4a73-9ae9-e9adbc87e95f"
   },
   "outputs": [
    {
     "name": "stderr",
     "output_type": "stream",
     "text": [
      "2022-11-17 18:29:41.443027: W tensorflow/stream_executor/platform/default/dso_loader.cc:64] Could not load dynamic library 'libcuda.so.1'; dlerror: libcuda.so.1: cannot open shared object file: No such file or directory\n",
      "2022-11-17 18:29:41.455443: W tensorflow/stream_executor/cuda/cuda_driver.cc:263] failed call to cuInit: UNKNOWN ERROR (303)\n",
      "2022-11-17 18:29:41.455565: I tensorflow/stream_executor/cuda/cuda_diagnostics.cc:156] kernel driver does not appear to be running on this host (mukesh-Inspiron-5468): /proc/driver/nvidia/version does not exist\n",
      "2022-11-17 18:29:41.497814: I tensorflow/core/platform/cpu_feature_guard.cc:193] This TensorFlow binary is optimized with oneAPI Deep Neural Network Library (oneDNN) to use the following CPU instructions in performance-critical operations:  AVX2 FMA\n",
      "To enable them in other operations, rebuild TensorFlow with the appropriate compiler flags.\n"
     ]
    },
    {
     "name": "stdout",
     "output_type": "stream",
     "text": [
      "Model: \"sequential\"\n",
      "_________________________________________________________________\n",
      " Layer (type)                Output Shape              Param #   \n",
      "=================================================================\n",
      " embedding (Embedding)       (None, None, 64)          320000    \n",
      "                                                                 \n",
      " dropout (Dropout)           (None, None, 64)          0         \n",
      "                                                                 \n",
      " lstm (LSTM)                 (None, 64)                33024     \n",
      "                                                                 \n",
      " dense (Dense)               (None, 6)                 390       \n",
      "                                                                 \n",
      "=================================================================\n",
      "Total params: 353,414\n",
      "Trainable params: 353,414\n",
      "Non-trainable params: 0\n",
      "_________________________________________________________________\n"
     ]
    }
   ],
   "source": [
    "model = Sequential()\n",
    "\n",
    "model.add(Embedding(vocab_size, embedding_dim))\n",
    "model.add(Dropout(0.5))\n",
    "model.add(LSTM(embedding_dim))\n",
    "model.add(Dense(6, activation='softmax'))\n",
    "\n",
    "model.summary()"
   ]
  },
  {
   "cell_type": "markdown",
   "metadata": {
    "colab_type": "text",
    "id": "o-1BGHvB9_iq"
   },
   "source": [
    "**Compile the Model**"
   ]
  },
  {
   "cell_type": "code",
   "execution_count": 25,
   "metadata": {
    "colab": {},
    "colab_type": "code",
    "id": "oXd2O7c65gaY"
   },
   "outputs": [
    {
     "name": "stderr",
     "output_type": "stream",
     "text": [
      "/home/mukesh/anaconda3/lib/python3.9/site-packages/keras/optimizers/optimizer_v2/adam.py:114: UserWarning: The `lr` argument is deprecated, use `learning_rate` instead.\n",
      "  super().__init__(name, **kwargs)\n"
     ]
    }
   ],
   "source": [
    "opt = tf.keras.optimizers.Adam(lr=0.001, decay=1e-6)\n",
    "model.compile(\n",
    "    loss='sparse_categorical_crossentropy',\n",
    "    optimizer=opt,\n",
    "    metrics=['accuracy'],\n",
    ")"
   ]
  },
  {
   "cell_type": "markdown",
   "metadata": {
    "colab_type": "text",
    "id": "aKWiZXKh-EE3"
   },
   "source": [
    "**Train the Model**"
   ]
  },
  {
   "cell_type": "code",
   "execution_count": 26,
   "metadata": {
    "colab": {
     "base_uri": "https://localhost:8080/",
     "height": 372
    },
    "colab_type": "code",
    "id": "oedluf3j5kVo",
    "outputId": "0662998e-09dc-407c-cb70-6a6641b5ea33"
   },
   "outputs": [
    {
     "name": "stdout",
     "output_type": "stream",
     "text": [
      "Epoch 1/20\n",
      "56/56 - 11s - loss: 1.6469 - accuracy: 0.2607 - val_loss: 1.5177 - val_accuracy: 0.3483 - 11s/epoch - 196ms/step\n",
      "Epoch 2/20\n",
      "56/56 - 6s - loss: 1.5009 - accuracy: 0.3579 - val_loss: 1.4817 - val_accuracy: 0.3978 - 6s/epoch - 107ms/step\n",
      "Epoch 3/20\n",
      "56/56 - 5s - loss: 1.3262 - accuracy: 0.4545 - val_loss: 1.2772 - val_accuracy: 0.4202 - 5s/epoch - 84ms/step\n",
      "Epoch 4/20\n",
      "56/56 - 5s - loss: 1.5791 - accuracy: 0.3421 - val_loss: 1.4835 - val_accuracy: 0.3416 - 5s/epoch - 84ms/step\n",
      "Epoch 5/20\n",
      "56/56 - 6s - loss: 1.3724 - accuracy: 0.4219 - val_loss: 1.2997 - val_accuracy: 0.4472 - 6s/epoch - 100ms/step\n",
      "Epoch 6/20\n",
      "56/56 - 5s - loss: 1.2464 - accuracy: 0.4848 - val_loss: 1.5025 - val_accuracy: 0.4337 - 5s/epoch - 90ms/step\n",
      "Epoch 7/20\n",
      "56/56 - 6s - loss: 1.2860 - accuracy: 0.4382 - val_loss: 1.2905 - val_accuracy: 0.4629 - 6s/epoch - 103ms/step\n",
      "Epoch 8/20\n",
      "56/56 - 6s - loss: 1.0945 - accuracy: 0.5697 - val_loss: 1.0793 - val_accuracy: 0.5685 - 6s/epoch - 99ms/step\n",
      "Epoch 9/20\n",
      "56/56 - 5s - loss: 1.1882 - accuracy: 0.5253 - val_loss: 1.3557 - val_accuracy: 0.5213 - 5s/epoch - 98ms/step\n",
      "Epoch 10/20\n",
      "56/56 - 5s - loss: 0.9978 - accuracy: 0.6466 - val_loss: 0.9916 - val_accuracy: 0.6202 - 5s/epoch - 86ms/step\n",
      "Epoch 11/20\n",
      "56/56 - 5s - loss: 1.0466 - accuracy: 0.5798 - val_loss: 1.4362 - val_accuracy: 0.4135 - 5s/epoch - 90ms/step\n",
      "Epoch 12/20\n",
      "56/56 - 5s - loss: 1.1038 - accuracy: 0.5635 - val_loss: 1.3029 - val_accuracy: 0.4539 - 5s/epoch - 94ms/step\n",
      "Epoch 13/20\n",
      "56/56 - 5s - loss: 1.0016 - accuracy: 0.6000 - val_loss: 1.2359 - val_accuracy: 0.4787 - 5s/epoch - 96ms/step\n",
      "Epoch 14/20\n",
      "56/56 - 6s - loss: 0.9381 - accuracy: 0.6140 - val_loss: 1.1468 - val_accuracy: 0.5056 - 6s/epoch - 99ms/step\n",
      "Epoch 15/20\n",
      "56/56 - 5s - loss: 0.8498 - accuracy: 0.6528 - val_loss: 0.8590 - val_accuracy: 0.6629 - 5s/epoch - 84ms/step\n",
      "Epoch 16/20\n",
      "56/56 - 5s - loss: 0.6461 - accuracy: 0.7343 - val_loss: 0.7139 - val_accuracy: 0.7191 - 5s/epoch - 93ms/step\n",
      "Epoch 17/20\n",
      "56/56 - 5s - loss: 0.5724 - accuracy: 0.7472 - val_loss: 0.7546 - val_accuracy: 0.7371 - 5s/epoch - 97ms/step\n",
      "Epoch 18/20\n",
      "56/56 - 5s - loss: 0.5529 - accuracy: 0.7567 - val_loss: 0.8573 - val_accuracy: 0.6831 - 5s/epoch - 92ms/step\n",
      "Epoch 19/20\n",
      "56/56 - 6s - loss: 0.6086 - accuracy: 0.7837 - val_loss: 0.8062 - val_accuracy: 0.7281 - 6s/epoch - 100ms/step\n",
      "Epoch 20/20\n",
      "56/56 - 7s - loss: 0.4664 - accuracy: 0.8079 - val_loss: 0.5930 - val_accuracy: 0.7910 - 7s/epoch - 120ms/step\n"
     ]
    }
   ],
   "source": [
    "num_epochs = 20\n",
    "history = model.fit(train_padded, training_label_seq, epochs=num_epochs, validation_data=(validation_padded, validation_label_seq), verbose=2)"
   ]
  },
  {
   "cell_type": "markdown",
   "metadata": {
    "colab_type": "text",
    "id": "T4bmOixZ-INI"
   },
   "source": [
    "**Plot the Graph**"
   ]
  },
  {
   "cell_type": "code",
   "execution_count": 27,
   "metadata": {
    "colab": {
     "base_uri": "https://localhost:8080/",
     "height": 541
    },
    "colab_type": "code",
    "id": "-U5WYk6D5lzh",
    "outputId": "2b1c99ec-d5af-41f8-c550-e9cd27d1e320"
   },
   "outputs": [
    {
     "data": {
      "image/png": "[encoded data removed]",
      "text/plain": [
       "<Figure size 432x288 with 1 Axes>"
      ]
     },
     "metadata": {
      "needs_background": "light"
     },
     "output_type": "display_data"
    },
    {
     "data": {
      "image/png": "[encoded data removed]",
      "text/plain": [
       "<Figure size 432x288 with 1 Axes>"
      ]
     },
     "metadata": {
      "needs_background": "light"
     },
     "output_type": "display_data"
    }
   ],
   "source": [
    "import matplotlib.pyplot as plt\n",
    "\n",
    "def plot_graphs(history, string):\n",
    "  plt.plot(history.history[string])\n",
    "  plt.plot(history.history['val_'+string])\n",
    "  plt.xlabel(\"Epochs\")\n",
    "  plt.ylabel(string)\n",
    "  plt.legend([string, 'val_'+string])\n",
    "  plt.show()\n",
    "  \n",
    "plot_graphs(history, \"accuracy\")\n",
    "plot_graphs(history, \"loss\")"
   ]
  },
  {
   "cell_type": "markdown",
   "metadata": {
    "colab_type": "text",
    "id": "UhAi891w-Lz1"
   },
   "source": [
    "**Prediction**"
   ]
  },
  {
   "cell_type": "code",
   "execution_count": 28,
   "metadata": {
    "colab": {
     "base_uri": "https://localhost:8080/",
     "height": 88
    },
    "colab_type": "code",
    "id": "peOgMHvP6am1",
    "outputId": "f72bcafa-e432-4631-a9c9-4a8891a4dc5b"
   },
   "outputs": [
    {
     "name": "stdout",
     "output_type": "stream",
     "text": [
      "1/1 [==============================] - 0s 468ms/step\n",
      "[[0.00528715 0.01796208 0.8004342  0.11477432 0.02670716 0.03483511]]\n",
      "2\n",
      "bussiness\n"
     ]
    }
   ],
   "source": [
    "txt = [\"singapore growth at 8.1% in 2004 singapore s economy grew by 8.1% in 2004  its best performance since 2000  figures from the trade ministry show.  the advance  the second-fastest in asia after china  was led by growth of 13.1% in the key manufacturing sector. however  a slower-than-expected fourth quarter points to more modest growth for the trade-driven economy in 2005 as global technology demand falls back. slowdowns in the us and china could hit electronics exports  while the tsunami disaster may effect the service sector.  economic growth is set to halve in singapore this year to between 3% and 5%. in the fourth quarter  the city state s gross domestic product (gdp) rose at an annual rate of 2.4%. that was up from the third quarter  when it fell 3.0%  but was well below analyst forecasts.  i am surprised at the weak fourth quarter number. the main drag came from electronics  \"]\n",
    "\n",
    "seq = tokenizer.texts_to_sequences(txt)\n",
    "padded = pad_sequences(seq, maxlen=max_length)\n",
    "pred = model.predict(padded)\n",
    "labels = ['sport', 'bussiness', 'politics', 'tech', 'entertainment'] #orig\n",
    "\n",
    "print(pred)\n",
    "print(np.argmax(pred))\n",
    "print(labels[np.argmax(pred)-1])"
   ]
  },
  {
   "cell_type": "code",
   "execution_count": null,
   "metadata": {},
   "outputs": [],
   "source": []
  }
 ],
 "metadata": {
  "accelerator": "GPU",
  "colab": {
   "collapsed_sections": [],
   "name": "Multiclass-LSTM.ipynb",
   "provenance": []
  },
  "kernelspec": {
   "display_name": "Python 3 (ipykernel)",
   "language": "python",
   "name": "python3"
  },
  "language_info": {
   "codemirror_mode": {
    "name": "ipython",
    "version": 3
   },
   "file_extension": ".py",
   "mimetype": "text/x-python",
   "name": "python",
   "nbconvert_exporter": "python",
   "pygments_lexer": "ipython3",
   "version": "3.9.12"
  }
 },
 "nbformat": 4,
 "nbformat_minor": 1
}
